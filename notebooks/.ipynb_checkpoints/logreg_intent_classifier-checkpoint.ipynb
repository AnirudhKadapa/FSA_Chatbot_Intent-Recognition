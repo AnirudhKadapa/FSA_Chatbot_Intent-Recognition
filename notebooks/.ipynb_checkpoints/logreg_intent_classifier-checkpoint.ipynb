{
 "cells": [
  {
   "cell_type": "markdown",
   "id": "ae55776b",
   "metadata": {},
   "source": [
    "# Logistic Regression Intent Classifier\n",
    "This notebook trains a logistic regression model using bag-of-words features."
   ]
  },
  {
   "cell_type": "code",
   "execution_count": null,
   "id": "36072a22",
   "metadata": {},
   "outputs": [],
   "source": [
    "import pandas as pd\n",
    "import numpy as np\n",
    "import time\n",
    "import matplotlib.pyplot as plt\n",
    "from sklearn.model_selection import train_test_split\n",
    "from sklearn.feature_extraction.text import CountVectorizer\n",
    "from sklearn.linear_model import LogisticRegression\n",
    "from sklearn.metrics import classification_report, confusion_matrix, ConfusionMatrixDisplay\n",
    "from sklearn.preprocessing import LabelEncoder\n",
    "import joblib\n",
    "import os\n",
    "\n",
    "# Setup\n",
    "start_time = time.time()\n",
    "df = pd.read_csv(\"../../intent_dataset.csv\")\n",
    "label_encoder = LabelEncoder()\n",
    "df['label'] = label_encoder.fit_transform(df['intent'])\n",
    "X = df['text']\n",
    "y = df['label']\n",
    "X_train, X_test, y_train, y_test = train_test_split(X, y, test_size=0.2, random_state=42)\n"
   ]
  },
  {
   "cell_type": "code",
   "execution_count": null,
   "id": "cb6812e1",
   "metadata": {},
   "outputs": [],
   "source": [
    "# Vectorization and model training\n",
    "vectorizer = CountVectorizer()\n",
    "X_train_vec = vectorizer.fit_transform(X_train)\n",
    "X_test_vec = vectorizer.transform(X_test)\n",
    "\n",
    "model = LogisticRegression(max_iter=1000)\n",
    "model.fit(X_train_vec, y_train)\n"
   ]
  },
  {
   "cell_type": "code",
   "execution_count": null,
   "id": "024c41ef",
   "metadata": {},
   "outputs": [],
   "source": [
    "# Evaluation\n",
    "y_pred = model.predict(X_test_vec)\n",
    "print(classification_report(y_test, y_pred, target_names=label_encoder.classes_))\n",
    "\n",
    "# Confusion Matrix\n",
    "cm = confusion_matrix(y_test, y_pred)\n",
    "disp = ConfusionMatrixDisplay(confusion_matrix=cm, display_labels=label_encoder.classes_)\n",
    "disp.plot(xticks_rotation=45)\n",
    "plt.title(\"Confusion Matrix\")\n",
    "plt.show()\n"
   ]
  },
  {
   "cell_type": "code",
   "execution_count": null,
   "id": "11cfc2fb",
   "metadata": {},
   "outputs": [],
   "source": [
    "# Save model, vectorizer, and label encoder\n",
    "os.makedirs(\"../checkpoints/logreg\", exist_ok=True)\n",
    "joblib.dump(model, \"../checkpoints/logreg/best_model.pkl\")\n",
    "joblib.dump(vectorizer, \"../checkpoints/logreg/vectorizer.pkl\")\n",
    "joblib.dump(label_encoder, \"../checkpoints/logreg/label_encoder.pkl\")\n",
    "print(\"Model and components saved.\")\n"
   ]
  },
  {
   "cell_type": "code",
   "execution_count": null,
   "id": "b06ba31c",
   "metadata": {},
   "outputs": [],
   "source": [
    "# Runtime logging\n",
    "end_time = time.time()\n",
    "print(f\"Training completed in {end_time - start_time:.2f} seconds\")\n"
   ]
  },
  {
   "cell_type": "code",
   "execution_count": null,
   "id": "cea0fcf5",
   "metadata": {},
   "outputs": [],
   "source": [
    "# Predict on custom input\n",
    "def predict_intent(text):\n",
    "    vec = vectorizer.transform([text])\n",
    "    pred = model.predict(vec)[0]\n",
    "    return label_encoder.inverse_transform([pred])[0]\n",
    "\n",
    "# Example usage\n",
    "predict_intent(\"Can you track my order?\")\n"
   ]
  }
 ],
 "metadata": {},
 "nbformat": 4,
 "nbformat_minor": 5
}
