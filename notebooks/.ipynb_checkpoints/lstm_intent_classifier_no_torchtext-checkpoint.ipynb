{
 "cells": [
  {
   "cell_type": "markdown",
   "id": "37431323",
   "metadata": {},
   "source": [
    "# LSTM Intent Classifier (No TorchText)\n",
    "This notebook trains an LSTM model for intent classification without using torchtext."
   ]
  },
  {
   "cell_type": "code",
   "execution_count": null,
   "id": "5be127bb",
   "metadata": {},
   "outputs": [],
   "source": [
    "import pandas as pd\n",
    "import numpy as np\n",
    "import torch\n",
    "import torch.nn as nn\n",
    "from torch.utils.data import Dataset, DataLoader\n",
    "from torch.nn.utils.rnn import pad_sequence\n",
    "from collections import Counter\n",
    "import time\n",
    "import re\n",
    "import os\n",
    "import joblib\n",
    "import matplotlib.pyplot as plt\n",
    "from sklearn.model_selection import train_test_split\n",
    "from sklearn.preprocessing import LabelEncoder\n",
    "from sklearn.metrics import classification_report, confusion_matrix, ConfusionMatrixDisplay\n",
    "\n",
    "# Tokenizer function\n",
    "def simple_tokenizer(text):\n",
    "    return re.findall(r'\\b\\w+\\b', text.lower())\n",
    "\n",
    "start_time = time.time()\n",
    "\n",
    "# Load dataset\n",
    "df = pd.read_csv(\"../../intent_dataset.csv\")\n",
    "label_encoder = LabelEncoder()\n",
    "df['label'] = label_encoder.fit_transform(df['intent'])\n",
    "X_train, X_test, y_train, y_test = train_test_split(df['text'], df['label'], test_size=0.2, random_state=42)\n"
   ]
  },
  {
   "cell_type": "code",
   "execution_count": null,
   "id": "c1f86e2c",
   "metadata": {},
   "outputs": [],
   "source": [
    "# Build vocabulary\n",
    "all_tokens = [token for text in X_train for token in simple_tokenizer(text)]\n",
    "counter = Counter(all_tokens)\n",
    "vocab = {\"<pad>\": 0, \"<unk>\": 1}\n",
    "vocab.update({word: idx+2 for idx, (word, _) in enumerate(counter.items())})\n",
    "\n",
    "def encode(text):\n",
    "    return [vocab.get(token, vocab[\"<unk>\"]) for token in simple_tokenizer(text)]\n"
   ]
  },
  {
   "cell_type": "code",
   "execution_count": null,
   "id": "a2a01d71",
   "metadata": {},
   "outputs": [],
   "source": [
    "# Create Dataset and DataLoader\n",
    "class IntentDataset(Dataset):\n",
    "    def __init__(self, texts, labels):\n",
    "        self.texts = [torch.tensor(encode(text), dtype=torch.long) for text in texts]\n",
    "        self.labels = torch.tensor(labels, dtype=torch.long)\n",
    "    def __len__(self):\n",
    "        return len(self.labels)\n",
    "    def __getitem__(self, idx):\n",
    "        return self.texts[idx], self.labels[idx]\n",
    "\n",
    "def collate_batch(batch):\n",
    "    texts, labels = zip(*batch)\n",
    "    padded = pad_sequence(texts, batch_first=True, padding_value=vocab[\"<pad>\"])\n",
    "    return padded, torch.tensor(labels)\n",
    "\n",
    "train_dataset = IntentDataset(X_train.tolist(), y_train.tolist())\n",
    "test_dataset = IntentDataset(X_test.tolist(), y_test.tolist())\n",
    "train_loader = DataLoader(train_dataset, batch_size=32, shuffle=True, collate_fn=collate_batch)\n",
    "test_loader = DataLoader(test_dataset, batch_size=32, shuffle=False, collate_fn=collate_batch)\n"
   ]
  },
  {
   "cell_type": "code",
   "execution_count": null,
   "id": "b8615c54",
   "metadata": {},
   "outputs": [],
   "source": [
    "# Define LSTM model\n",
    "class LSTMClassifier(nn.Module):\n",
    "    def __init__(self, vocab_size, embed_dim, hidden_dim, output_dim):\n",
    "        super().__init__()\n",
    "        self.embedding = nn.Embedding(vocab_size, embed_dim)\n",
    "        self.lstm = nn.LSTM(embed_dim, hidden_dim, batch_first=True)\n",
    "        self.fc = nn.Linear(hidden_dim, output_dim)\n",
    "    def forward(self, x):\n",
    "        x = self.embedding(x)\n",
    "        _, (hn, _) = self.lstm(x)\n",
    "        return self.fc(hn[-1])\n",
    "\n",
    "device = torch.device(\"cuda\" if torch.cuda.is_available() else \"cpu\")\n",
    "model = LSTMClassifier(len(vocab), 64, 64, len(label_encoder.classes_)).to(device)\n",
    "optimizer = torch.optim.Adam(model.parameters(), lr=1e-3)\n",
    "loss_fn = nn.CrossEntropyLoss()\n"
   ]
  },
  {
   "cell_type": "code",
   "execution_count": null,
   "id": "6dc704ba",
   "metadata": {},
   "outputs": [],
   "source": [
    "# Training loop\n",
    "def train(model, loader):\n",
    "    model.train()\n",
    "    for texts, labels in loader:\n",
    "        texts, labels = texts.to(device), labels.to(device)\n",
    "        optimizer.zero_grad()\n",
    "        outputs = model(texts)\n",
    "        loss = loss_fn(outputs, labels)\n",
    "        loss.backward()\n",
    "        optimizer.step()\n",
    "\n",
    "for epoch in range(5):\n",
    "    train(model, train_loader)\n",
    "print(\"Training complete.\")\n"
   ]
  },
  {
   "cell_type": "code",
   "execution_count": null,
   "id": "788062ba",
   "metadata": {},
   "outputs": [],
   "source": [
    "# Evaluation\n",
    "def evaluate(model, loader):\n",
    "    model.eval()\n",
    "    all_preds, all_labels = [], []\n",
    "    with torch.no_grad():\n",
    "        for texts, labels in loader:\n",
    "            texts = texts.to(device)\n",
    "            outputs = model(texts)\n",
    "            preds = torch.argmax(outputs, dim=1).cpu()\n",
    "            all_preds.extend(preds.tolist())\n",
    "            all_labels.extend(labels.tolist())\n",
    "    return all_labels, all_preds\n",
    "\n",
    "y_true, y_pred = evaluate(model, test_loader)\n",
    "print(classification_report(y_true, y_pred, target_names=label_encoder.classes_))\n",
    "\n",
    "cm = confusion_matrix(y_true, y_pred)\n",
    "disp = ConfusionMatrixDisplay(confusion_matrix=cm, display_labels=label_encoder.classes_)\n",
    "disp.plot(xticks_rotation=45)\n",
    "plt.title(\"Confusion Matrix\")\n",
    "plt.show()\n"
   ]
  },
  {
   "cell_type": "code",
   "execution_count": null,
   "id": "c87f53c2",
   "metadata": {},
   "outputs": [],
   "source": [
    "# Save model and components\n",
    "os.makedirs(\"../checkpoints/lstm\", exist_ok=True)\n",
    "torch.save(model.state_dict(), \"../checkpoints/lstm/best_model.pt\")\n",
    "joblib.dump(vocab, \"../checkpoints/lstm/vocab.pkl\")\n",
    "joblib.dump(label_encoder, \"../checkpoints/lstm/label_encoder.pkl\")\n",
    "print(\"Model, vocab, and label encoder saved.\")\n"
   ]
  },
  {
   "cell_type": "code",
   "execution_count": null,
   "id": "68660e72",
   "metadata": {},
   "outputs": [],
   "source": [
    "# Runtime log\n",
    "end_time = time.time()\n",
    "print(f\"Training completed in {end_time - start_time:.2f} seconds\")\n"
   ]
  },
  {
   "cell_type": "code",
   "execution_count": null,
   "id": "f45ca7e4",
   "metadata": {},
   "outputs": [],
   "source": [
    "# Predict on custom input\n",
    "def predict_intent(text):\n",
    "    model.eval()\n",
    "    encoded = torch.tensor(encode(text), dtype=torch.long).unsqueeze(0).to(device)\n",
    "    with torch.no_grad():\n",
    "        output = model(encoded)\n",
    "        pred = torch.argmax(output, dim=1).item()\n",
    "    return label_encoder.inverse_transform([pred])[0]\n",
    "\n",
    "# Example\n",
    "predict_intent(\"I would like to return my order please.\")\n"
   ]
  }
 ],
 "metadata": {},
 "nbformat": 4,
 "nbformat_minor": 5
}
