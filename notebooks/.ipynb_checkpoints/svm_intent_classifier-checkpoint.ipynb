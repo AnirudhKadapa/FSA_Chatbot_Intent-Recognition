{
 "cells": [
  {
   "cell_type": "markdown",
   "id": "12a34035",
   "metadata": {},
   "source": [
    "# TF-IDF + SVM Intent Classifier\n",
    "This notebook trains an SVM model using TF-IDF features for intent classification."
   ]
  },
  {
   "cell_type": "code",
   "execution_count": null,
   "id": "91be68b0",
   "metadata": {},
   "outputs": [],
   "source": [
    "import pandas as pd\n",
    "import numpy as np\n",
    "import time\n",
    "import matplotlib.pyplot as plt\n",
    "from sklearn.model_selection import train_test_split\n",
    "from sklearn.feature_extraction.text import TfidfVectorizer\n",
    "from sklearn.svm import SVC\n",
    "from sklearn.metrics import classification_report, confusion_matrix, ConfusionMatrixDisplay\n",
    "from sklearn.preprocessing import LabelEncoder\n",
    "import joblib\n",
    "import os\n",
    "\n",
    "# Setup\n",
    "start_time = time.time()\n",
    "df = pd.read_csv(\"../../intent_dataset.csv\")\n",
    "label_encoder = LabelEncoder()\n",
    "df['label'] = label_encoder.fit_transform(df['intent'])\n",
    "X = df['text']\n",
    "y = df['label']\n",
    "X_train, X_test, y_train, y_test = train_test_split(X, y, test_size=0.2, random_state=42)\n"
   ]
  },
  {
   "cell_type": "code",
   "execution_count": null,
   "id": "b5f7e65c",
   "metadata": {},
   "outputs": [],
   "source": [
    "# Vectorization and model training\n",
    "vectorizer = TfidfVectorizer()\n",
    "X_train_vec = vectorizer.fit_transform(X_train)\n",
    "X_test_vec = vectorizer.transform(X_test)\n",
    "\n",
    "model = SVC(kernel='linear', probability=True)\n",
    "model.fit(X_train_vec, y_train)\n"
   ]
  },
  {
   "cell_type": "code",
   "execution_count": null,
   "id": "3d053f3c",
   "metadata": {},
   "outputs": [],
   "source": [
    "# Evaluation\n",
    "y_pred = model.predict(X_test_vec)\n",
    "print(classification_report(y_test, y_pred, target_names=label_encoder.classes_))\n",
    "\n",
    "# Confusion Matrix\n",
    "cm = confusion_matrix(y_test, y_pred)\n",
    "disp = ConfusionMatrixDisplay(confusion_matrix=cm, display_labels=label_encoder.classes_)\n",
    "disp.plot(xticks_rotation=45)\n",
    "plt.title(\"Confusion Matrix\")\n",
    "plt.show()\n"
   ]
  },
  {
   "cell_type": "code",
   "execution_count": null,
   "id": "5cc3383e",
   "metadata": {},
   "outputs": [],
   "source": [
    "# Save model, vectorizer, and label encoder\n",
    "os.makedirs(\"../checkpoints/svm\", exist_ok=True)\n",
    "joblib.dump(model, \"../checkpoints/svm/best_model.pkl\")\n",
    "joblib.dump(vectorizer, \"../checkpoints/svm/vectorizer.pkl\")\n",
    "joblib.dump(label_encoder, \"../checkpoints/svm/label_encoder.pkl\")\n",
    "print(\"Model and components saved.\")\n"
   ]
  },
  {
   "cell_type": "code",
   "execution_count": null,
   "id": "e48bc187",
   "metadata": {},
   "outputs": [],
   "source": [
    "# Runtime logging\n",
    "end_time = time.time()\n",
    "print(f\"Training completed in {end_time - start_time:.2f} seconds\")\n"
   ]
  },
  {
   "cell_type": "code",
   "execution_count": null,
   "id": "6c9e471c",
   "metadata": {},
   "outputs": [],
   "source": [
    "# Predict on custom input\n",
    "def predict_intent(text):\n",
    "    vec = vectorizer.transform([text])\n",
    "    pred = model.predict(vec)[0]\n",
    "    return label_encoder.inverse_transform([pred])[0]\n",
    "\n",
    "# Example usage\n",
    "predict_intent(\"I want to return my order\")\n"
   ]
  }
 ],
 "metadata": {},
 "nbformat": 4,
 "nbformat_minor": 5
}
