{
 "cells": [
  {
   "cell_type": "markdown",
   "id": "0825a19f",
   "metadata": {},
   "source": [
    "# Evaluation Summary: Intent Classification Models\n",
    "Compare performance metrics of all trained models."
   ]
  },
  {
   "cell_type": "code",
   "execution_count": null,
   "id": "5dafde32",
   "metadata": {},
   "outputs": [],
   "source": [
    "import joblib\n",
    "import numpy as np\n",
    "import pandas as pd\n",
    "import matplotlib.pyplot as plt\n",
    "from sklearn.metrics import classification_report, confusion_matrix, ConfusionMatrixDisplay\n",
    "\n",
    "# Load test data and label encoder\n",
    "df = pd.read_csv(\"../../intent_dataset.csv\")\n",
    "from sklearn.model_selection import train_test_split\n",
    "from sklearn.preprocessing import LabelEncoder\n",
    "label_encoder = LabelEncoder()\n",
    "df['label'] = label_encoder.fit_transform(df['intent'])\n",
    "X_train, X_test, y_train, y_test = train_test_split(df['text'], df['label'], test_size=0.2, random_state=42)\n"
   ]
  },
  {
   "cell_type": "code",
   "execution_count": null,
   "id": "95df4355",
   "metadata": {},
   "outputs": [],
   "source": [
    "# Utility function to generate classification report\n",
    "def display_metrics(name, y_true, y_pred):\n",
    "    print(f\"\\n--- {name} ---\")\n",
    "    print(classification_report(y_true, y_pred, target_names=label_encoder.classes_))\n",
    "    cm = confusion_matrix(y_true, y_pred)\n",
    "    disp = ConfusionMatrixDisplay(confusion_matrix=cm, display_labels=label_encoder.classes_)\n",
    "    disp.plot(xticks_rotation=45)\n",
    "    plt.title(f\"Confusion Matrix - {name}\")\n",
    "    plt.show()\n"
   ]
  },
  {
   "cell_type": "code",
   "execution_count": null,
   "id": "26ebdd63",
   "metadata": {},
   "outputs": [],
   "source": [
    "# Load and evaluate Logistic Regression\n",
    "logreg_model = joblib.load(\"../checkpoints/logreg/best_model.pkl\")\n",
    "logreg_vectorizer = joblib.load(\"../checkpoints/logreg/vectorizer.pkl\")\n",
    "y_pred_logreg = logreg_model.predict(logreg_vectorizer.transform(X_test))\n",
    "display_metrics(\"Logistic Regression\", y_test, y_pred_logreg)\n"
   ]
  },
  {
   "cell_type": "code",
   "execution_count": null,
   "id": "f402b537",
   "metadata": {},
   "outputs": [],
   "source": [
    "# Load and evaluate SVM\n",
    "svm_model = joblib.load(\"../checkpoints/svm/best_model.pkl\")\n",
    "svm_vectorizer = joblib.load(\"../checkpoints/svm/vectorizer.pkl\")\n",
    "y_pred_svm = svm_model.predict(svm_vectorizer.transform(X_test))\n",
    "display_metrics(\"SVM\", y_test, y_pred_svm)\n"
   ]
  },
  {
   "cell_type": "code",
   "execution_count": null,
   "id": "c47dabd9",
   "metadata": {},
   "outputs": [],
   "source": [
    "# Load and evaluate LSTM\n",
    "import torch\n",
    "from torchtext.data.utils import get_tokenizer\n",
    "from torch.nn.utils.rnn import pad_sequence\n",
    "from torchtext.vocab import build_vocab_from_iterator\n",
    "\n",
    "class LSTMClassifier(torch.nn.Module):\n",
    "    def __init__(self, vocab_size, embed_dim, hidden_dim, output_dim):\n",
    "        super().__init__()\n",
    "        self.embedding = torch.nn.Embedding(vocab_size, embed_dim)\n",
    "        self.lstm = torch.nn.LSTM(embed_dim, hidden_dim, batch_first=True)\n",
    "        self.fc = torch.nn.Linear(hidden_dim, output_dim)\n",
    "    def forward(self, x):\n",
    "        x = self.embedding(x)\n",
    "        _, (hn, _) = self.lstm(x)\n",
    "        return self.fc(hn[-1])\n",
    "\n",
    "tokenizer = get_tokenizer(\"basic_english\")\n",
    "def yield_tokens(data_iter):\n",
    "    for text in data_iter:\n",
    "        yield tokenizer(text)\n",
    "\n",
    "vocab = build_vocab_from_iterator(yield_tokens(X_train), specials=[\"<pad>\"])\n",
    "vocab.set_default_index(vocab[\"<pad>\"])\n",
    "\n",
    "def lstm_pipeline(texts):\n",
    "    text_tensor = [torch.tensor(vocab(tokenizer(t)), dtype=torch.long) for t in texts]\n",
    "    return pad_sequence(text_tensor, batch_first=True, padding_value=vocab[\"<pad>\"])\n",
    "\n",
    "model_lstm = LSTMClassifier(len(vocab), 64, 64, len(label_encoder.classes_))\n",
    "model_lstm.load_state_dict(torch.load(\"../checkpoints/lstm/best_model.pt\", map_location=torch.device(\"cpu\")))\n",
    "model_lstm.eval()\n",
    "\n",
    "X_test_lstm = lstm_pipeline(X_test)\n",
    "with torch.no_grad():\n",
    "    logits = model_lstm(X_test_lstm)\n",
    "y_pred_lstm = torch.argmax(logits, axis=1).numpy()\n",
    "display_metrics(\"LSTM\", y_test, y_pred_lstm)\n"
   ]
  },
  {
   "cell_type": "code",
   "execution_count": null,
   "id": "dd1aba13",
   "metadata": {},
   "outputs": [],
   "source": [
    "# Load and evaluate DistilBERT\n",
    "from transformers import DistilBertTokenizerFast, DistilBertForSequenceClassification\n",
    "\n",
    "tokenizer_bert = DistilBertTokenizerFast.from_pretrained(\"../checkpoints/bert\")\n",
    "model_bert = DistilBertForSequenceClassification.from_pretrained(\"../checkpoints/bert\")\n",
    "model_bert.eval()\n",
    "\n",
    "X_test_bert = tokenizer_bert(list(X_test), return_tensors='pt', padding=True, truncation=True)\n",
    "with torch.no_grad():\n",
    "    outputs = model_bert(**X_test_bert)\n",
    "y_pred_bert = torch.argmax(outputs.logits, axis=1).numpy()\n",
    "display_metrics(\"DistilBERT\", y_test, y_pred_bert)\n"
   ]
  }
 ],
 "metadata": {},
 "nbformat": 4,
 "nbformat_minor": 5
}
